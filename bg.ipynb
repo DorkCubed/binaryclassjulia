{
 "cells": [
  {
   "cell_type": "markdown",
   "metadata": {},
   "source": [
    "This is the ClassifySorB code written in python - both as a starting point for me and to examine the difference in Python and Julia.\n",
    "\n",
    "In short, this code lacks a lot of features."
   ]
  },
  {
   "cell_type": "code",
   "execution_count": 1,
   "metadata": {},
   "outputs": [],
   "source": [
    "import pandas\n",
    "import torch\n",
    "import torch.nn as nn\n",
    "from torch.utils.data import DataLoader, TensorDataset\n",
    "from sklearn.model_selection import train_test_split\n",
    "from sklearn.preprocessing import LabelEncoder\n",
    "from tqdm import tqdm"
   ]
  },
  {
   "cell_type": "code",
   "execution_count": 2,
   "metadata": {},
   "outputs": [],
   "source": [
    "df = pandas.read_csv(\"dataset.csv\")\n",
    "\n",
    "model = nn.Sequential(\n",
    "    nn.Linear(3, 16),\n",
    "    nn.LeakyReLU(),\n",
    "    nn.BatchNorm1d(16),\n",
    "    nn.Dropout(0.1),\n",
    "    nn.Linear(16, 32),\n",
    "    nn.Tanh(),\n",
    "    nn.Dropout(0.2),\n",
    "    nn.Linear(32, 12),\n",
    "    nn.LeakyReLU(),\n",
    "    nn.BatchNorm1d(12),\n",
    "    nn.Dropout(0.3),\n",
    "    nn.Linear(12, 3),\n",
    "    nn.Sigmoid(),\n",
    "    nn.BatchNorm1d(3),\n",
    "    nn.Linear(3, 1)\n",
    ").cuda()\n"
   ]
  },
  {
   "cell_type": "code",
   "execution_count": 3,
   "metadata": {},
   "outputs": [],
   "source": [
    "losschecker = nn.BCEWithLogitsLoss()\n",
    "\n",
    "optimizer = torch.optim.Adam(model.parameters(), lr=0.0001)\n",
    "\n",
    "le = LabelEncoder()\n",
    "df['class'] = le.fit_transform(df['class'])\n",
    "\n",
    "X = df.drop('class', axis=1).values\n",
    "y = df['class'].values\n",
    "\n",
    "X_train, X_test, y_train, y_test = train_test_split(X, y, test_size=0.2, random_state=42)\n",
    "\n",
    "#turning the data into float32 tensors! Loss of accuracy for speed\n",
    "X_train = torch.tensor(X_train, dtype=torch.float).cuda()\n",
    "y_train = torch.tensor(y_train, dtype=torch.float).cuda()\n",
    "X_test = torch.tensor(X_test, dtype=torch.float).cuda()\n",
    "y_test = torch.tensor(y_test, dtype=torch.float).cuda()\n",
    "\n",
    "#the loader and the number of epochs also had to be sacrificed for speed\n",
    "train_loader = DataLoader(TensorDataset(X_train, y_train), batch_size=128, shuffle=True)\n",
    "test_loader = DataLoader(TensorDataset(X_test, y_test), batch_size=1024, shuffle=True)"
   ]
  },
  {
   "cell_type": "code",
   "execution_count": 4,
   "metadata": {},
   "outputs": [
    {
     "name": "stderr",
     "output_type": "stream",
     "text": [
      "100%|██████████| 100/100 [04:09<00:00,  2.50s/it]\n"
     ]
    }
   ],
   "source": [
    "for epoch in tqdm(range(100)):\n",
    "    \n",
    "    for inputs, sol in train_loader:\n",
    "        optimizer.zero_grad()\n",
    "        outputs = model(inputs)\n",
    "        sol = sol.view(-1, 1)\n",
    "\n",
    "        loss = losschecker(outputs, sol)\n",
    "        loss.backward()\n",
    "        \n",
    "        optimizer.step()"
   ]
  },
  {
   "cell_type": "code",
   "execution_count": 6,
   "metadata": {},
   "outputs": [
    {
     "name": "stdout",
     "output_type": "stream",
     "text": [
      "Accuracy on test data: 91 %\n"
     ]
    }
   ],
   "source": [
    "model.eval()\n",
    "\n",
    "with torch.no_grad():\n",
    "    correct = 0\n",
    "    total = 0\n",
    "\n",
    "    for inputs, sol in test_loader:\n",
    "        \n",
    "        outputs = model(inputs)\n",
    "        sol = sol.view(-1, 1)\n",
    "        predicted = torch.round(torch.sigmoid(outputs))\n",
    "\n",
    "        total += sol.size(0)\n",
    "        correct += (predicted == sol).sum().item()\n",
    "\n",
    "print('Accuracy on test data: %d %%' % (100 * correct / total))"
   ]
  }
 ],
 "metadata": {
  "kernelspec": {
   "display_name": "Python 3",
   "language": "python",
   "name": "python3"
  },
  "language_info": {
   "codemirror_mode": {
    "name": "ipython",
    "version": 3
   },
   "file_extension": ".py",
   "mimetype": "text/x-python",
   "name": "python",
   "nbconvert_exporter": "python",
   "pygments_lexer": "ipython3",
   "version": "3.12.2"
  }
 },
 "nbformat": 4,
 "nbformat_minor": 2
}
